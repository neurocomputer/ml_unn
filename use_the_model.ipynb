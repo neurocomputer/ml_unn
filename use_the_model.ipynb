{
 "cells": [
  {
   "cell_type": "code",
   "execution_count": 1,
   "id": "75983590",
   "metadata": {},
   "outputs": [
    {
     "name": "stderr",
     "output_type": "stream",
     "text": [
      "/Users/sergey/Projects/ml_unn/venv/lib/python3.9/site-packages/urllib3/__init__.py:35: NotOpenSSLWarning: urllib3 v2 only supports OpenSSL 1.1.1+, currently the 'ssl' module is compiled with 'LibreSSL 2.8.3'. See: https://github.com/urllib3/urllib3/issues/3020\n",
      "  warnings.warn(\n"
     ]
    }
   ],
   "source": [
    "import tensorflow as tf\n",
    "import matplotlib.pyplot as plt\n",
    "import numpy as np"
   ]
  },
  {
   "cell_type": "code",
   "execution_count": 2,
   "id": "49d74282",
   "metadata": {},
   "outputs": [],
   "source": [
    "def load_image(path):\n",
    "    \"\"\"\n",
    "    Загрузка изображения\n",
    "    \"\"\"\n",
    "    # loading and resizing\n",
    "    image = tf.io.read_file(path)\n",
    "    image = tf.image.decode_image(image, channels=3, expand_animations=False)\n",
    "    image = tf.image.resize(image, (32, 32))\n",
    "    # grayscaling\n",
    "    image = tf.image.rgb_to_grayscale(image)\n",
    "    # normalize\n",
    "    image = tf.cast(image, tf.float32) / 255.0\n",
    "    # reshape\n",
    "    image = tf.reshape(image, shape=(1,32,32,1))\n",
    "    return image"
   ]
  },
  {
   "cell_type": "code",
   "execution_count": 3,
   "id": "7519dab9",
   "metadata": {},
   "outputs": [
    {
     "data": {
      "image/png": "[encoded data removed]",
      "text/plain": [
       "<Figure size 640x480 with 1 Axes>"
      ]
     },
     "metadata": {},
     "output_type": "display_data"
    }
   ],
   "source": [
    "uploaded_file = 'datasets/brain_tumor_1/Training/glioma/Tr-gl_0010.jpg'\n",
    "img = load_image(uploaded_file)\n",
    "\n",
    "plt.imshow(img[0])\n",
    "plt.show()"
   ]
  },
  {
   "cell_type": "code",
   "execution_count": 4,
   "id": "387a8205",
   "metadata": {},
   "outputs": [],
   "source": [
    "# метки классов\n",
    "class_names = ['glioma', 'meningioma', 'notumor', 'pituitary']"
   ]
  },
  {
   "cell_type": "code",
   "execution_count": 5,
   "id": "373c6031",
   "metadata": {},
   "outputs": [],
   "source": [
    "# загрузка модели\n",
    "model = tf.keras.models.load_model('/Users/sergey/Projects/ml_unn/brain_tumor_1_model.keras')"
   ]
  },
  {
   "cell_type": "code",
   "execution_count": 6,
   "id": "8dbe0df0",
   "metadata": {},
   "outputs": [
    {
     "name": "stdout",
     "output_type": "stream",
     "text": [
      "\u001b[1m1/1\u001b[0m \u001b[32m━━━━━━━━━━━━━━━━━━━━\u001b[0m\u001b[37m\u001b[0m \u001b[1m0s\u001b[0m 60ms/step\n"
     ]
    }
   ],
   "source": [
    "# инференс модели\n",
    "prediction = model.predict(img)"
   ]
  },
  {
   "cell_type": "code",
   "execution_count": 7,
   "id": "2ddb312f",
   "metadata": {},
   "outputs": [
    {
     "data": {
      "text/plain": [
       "'glioma'"
      ]
     },
     "execution_count": 7,
     "metadata": {},
     "output_type": "execute_result"
    }
   ],
   "source": [
    "# распознанный класс\n",
    "class_names[np.argmax(prediction)]"
   ]
  }
 ],
 "metadata": {
  "kernelspec": {
   "display_name": "venv",
   "language": "python",
   "name": "python3"
  },
  "language_info": {
   "codemirror_mode": {
    "name": "ipython",
    "version": 3
   },
   "file_extension": ".py",
   "mimetype": "text/x-python",
   "name": "python",
   "nbconvert_exporter": "python",
   "pygments_lexer": "ipython3",
   "version": "3.9.6"
  }
 },
 "nbformat": 4,
 "nbformat_minor": 5
}
